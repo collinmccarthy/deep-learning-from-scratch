{
 "cells": [
  {
   "cell_type": "markdown",
   "metadata": {},
   "source": [
    "# Python / Numpy Snippets"
   ]
  },
  {
   "cell_type": "markdown",
   "metadata": {},
   "source": [
    "## Exponential Moving Average"
   ]
  },
  {
   "cell_type": "code",
   "execution_count": 4,
   "metadata": {},
   "outputs": [
    {
     "name": "stdout",
     "output_type": "stream",
     "text": [
      "[100.     102.5    105.     107.5    110.     113.     116.4    120.12\n",
      " 124.096  128.2768]\n"
     ]
    }
   ],
   "source": [
    "# Exponential moving average, from https://dayanand-shah.medium.com/exponential-moving-average-and-implementation-with-python-1890d1b880e6\n",
    "import numpy as np\n",
    "\n",
    "def exponential_moving_average(prices, period, weighting_factor=0.2):\n",
    "    # Modified from https://dayanand-shah.medium.com/exponential-moving-average-and-implementation-with-python-1890d1b880e6\n",
    "        \n",
    "    ema = np.empty(len(prices))\n",
    "    for i in range(len(prices)):\n",
    "        if i < period:  # No real EMA yet, use average\n",
    "            ema[i] = np.mean(prices[:i+1])\n",
    "        else:  # Start EMA\n",
    "            ema[i] = (ema[i - 1] * (1 - weighting_factor)) + (prices[i] * weighting_factor)\n",
    "    \n",
    "    return ema\n",
    "\n",
    "prices = [100, 105, 110, 115, 120, 125, 130, 135, 140, 145]\n",
    "period = 5\n",
    "weighting_factor = 0.2\n",
    "\n",
    "ema = exponential_moving_average(prices, period, weighting_factor)\n",
    "print(ema)"
   ]
  },
  {
   "cell_type": "code",
   "execution_count": null,
   "metadata": {},
   "outputs": [],
   "source": []
  }
 ],
 "metadata": {
  "kernelspec": {
   "display_name": "dl_scratch",
   "language": "python",
   "name": "python3"
  },
  "language_info": {
   "codemirror_mode": {
    "name": "ipython",
    "version": 3
   },
   "file_extension": ".py",
   "mimetype": "text/x-python",
   "name": "python",
   "nbconvert_exporter": "python",
   "pygments_lexer": "ipython3",
   "version": "3.10.15"
  }
 },
 "nbformat": 4,
 "nbformat_minor": 2
}

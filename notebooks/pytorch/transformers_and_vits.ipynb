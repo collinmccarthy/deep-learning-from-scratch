{
 "cells": [
  {
   "cell_type": "markdown",
   "metadata": {},
   "source": [
    "# Transformer from Scratch"
   ]
  },
  {
   "cell_type": "markdown",
   "metadata": {},
   "source": [
    "- Transformer / self-attention from [YouTube (Andrej Karpathy): Let's build GPT: from scratch, in code, spelled out.](https://youtu.be/kCc8FmEb1nY?si=BIpnh3WRnQaqQ0uT)\n",
    "    - Notebook: [Google colab notebook for video](https://colab.research.google.com/drive/1JMLa53HDuA-i7ZBmqV7ZnA3c_fvtXnx-?usp=sharing)\n",
    "- ViT from [lucidrains/vit-pytorch](https://github.com/lucidrains/vit-pytorch/blob/main/vit_pytorch/simple_vit.py)\n",
    "\n",
    "- TODO:\n",
    "    - Forward\n",
    "    - Training\n",
    "    - Generate"
   ]
  },
  {
   "cell_type": "markdown",
   "metadata": {},
   "source": []
  }
 ],
 "metadata": {
  "language_info": {
   "name": "python"
  }
 },
 "nbformat": 4,
 "nbformat_minor": 2
}

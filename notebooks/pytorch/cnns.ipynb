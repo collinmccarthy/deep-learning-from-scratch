{
 "cells": [
  {
   "cell_type": "markdown",
   "metadata": {},
   "source": [
    "# CNNs from Scratch"
   ]
  },
  {
   "cell_type": "markdown",
   "metadata": {},
   "source": [
    "- Code based on [GitHub: TheIndependentCode/Neural-Network](https://github.com/TheIndependentCode/Neural-Network)\n",
    "    - Also see [YouTube (TheIndependentCode): Neural Networks](https://youtube.com/playlist?list=PLQ4osgQ7WN6PGnvt6tzLAVAEMsL3LBqpm&si=nYp4J9dIP13Bcaxs)\n",
    "        - Accompanies GitHub repo"
   ]
  }
 ],
 "metadata": {
  "language_info": {
   "name": "python"
  }
 },
 "nbformat": 4,
 "nbformat_minor": 2
}

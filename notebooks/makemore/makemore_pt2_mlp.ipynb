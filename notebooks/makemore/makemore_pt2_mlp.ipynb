{
 "cells": [
  {
   "cell_type": "markdown",
   "metadata": {},
   "source": [
    "## Makemore MLP\n",
    "- Code from [karpathy/nn-zero-to-hero/lectures/makemore/makemore_part2_mlp.ipynb](https://github.com/karpathy/nn-zero-to-hero/blob/master/lectures/makemore/makemore_part2_mlp.ipynb)\n",
    "    - Re-factored to follow standard PyTorch workflows, while still keeping it simple and readable\n",
    "    - Some additional notes / comments"
   ]
  },
  {
   "cell_type": "markdown",
   "metadata": {},
   "source": [
    "### Discussion: Bigram to MLP\n",
    "\n",
    "- Our bigram \"table\" (joint distribution $P(x,y)$) had 27 rows because we were only looking at a single character (26 chars plus the special token for begin/end)\n",
    "    - E.g. block_size=1\n",
    "- The number of rows would grow exponentially as $\\text{vocab-size}^\\text{context-len}$\n",
    "    - If context_len = 1, num_rows = 27\n",
    "    - If context_len = 2, num_rows = 27*27 = 729\n",
    "    - If block_size = 3, num_rows = 27*27*27 = 19683\n",
    "    - If context_len = 4, num_rows = 27*27*27*27 = 531441\n",
    "    - If context_len = 128, num_rows = 27^128 = 1.639e183 (craaaazy)"
   ]
  },
  {
   "cell_type": "markdown",
   "metadata": {},
   "source": [
    "### Imports and Paths"
   ]
  },
  {
   "cell_type": "code",
   "execution_count": 49,
   "metadata": {},
   "outputs": [],
   "source": [
    "# Imports\n",
    "from pathlib import Path\n",
    "import torch\n",
    "from torch import nn\n",
    "import torch.nn.functional as F\n",
    "import matplotlib.pyplot as plt\n",
    "from tqdm import tqdm\n",
    "%matplotlib inline\n",
    "\n",
    "# Paths (modify as necessary)\n",
    "names_txt = Path('~/dl_from_scratch/dl_scratch/makemore/names.txt').expanduser()\n",
    "device = 'cuda' if torch.cuda.is_available() else 'cpu'"
   ]
  },
  {
   "cell_type": "markdown",
   "metadata": {},
   "source": [
    "### Build Dataset"
   ]
  },
  {
   "cell_type": "markdown",
   "metadata": {},
   "source": [
    "#### Load Data / Build Vocabulary"
   ]
  },
  {
   "cell_type": "code",
   "execution_count": 77,
   "metadata": {},
   "outputs": [
    {
     "name": "stdout",
     "output_type": "stream",
     "text": [
      "Num words: 32033\n",
      "First 10 words: ['emma', 'olivia', 'ava', 'isabella', 'sophia', 'charlotte', 'mia', 'amelia', 'harper', 'evelyn']\n",
      "Char to int (stoi): {'a': 1, 'b': 2, 'c': 3, 'd': 4, 'e': 5, 'f': 6, 'g': 7, 'h': 8, 'i': 9, 'j': 10, 'k': 11, 'l': 12, 'm': 13, 'n': 14, 'o': 15, 'p': 16, 'q': 17, 'r': 18, 's': 19, 't': 20, 'u': 21, 'v': 22, 'w': 23, 'x': 24, 'y': 25, 'z': 26, '.': 0}\n",
      "Int to char (itos): {1: 'a', 2: 'b', 3: 'c', 4: 'd', 5: 'e', 6: 'f', 7: 'g', 8: 'h', 9: 'i', 10: 'j', 11: 'k', 12: 'l', 13: 'm', 14: 'n', 15: 'o', 16: 'p', 17: 'q', 18: 'r', 19: 's', 20: 't', 21: 'u', 22: 'v', 23: 'w', 24: 'x', 25: 'y', 26: 'z', 0: '.'}\n",
      "Vocab size: 27\n"
     ]
    }
   ],
   "source": [
    "# read in all the words\n",
    "words = open(names_txt, 'r').read().splitlines()\n",
    "print(f\"Num words: {len(words)}\")\n",
    "print(f\"First 10 words: {words[:10]}\")\n",
    "\n",
    "# build the vocabulary of characters and mappings to/from integers\n",
    "chars = sorted(list(set(''.join(words))))\n",
    "stoi = {s:i+1 for i,s in enumerate(chars)}\n",
    "stoi['.'] = 0\n",
    "itos = {i:s for s,i in stoi.items()}\n",
    "vocab_size = len(itos)\n",
    "print(f\"Char to int (stoi): {stoi}\")\n",
    "print(f\"Int to char (itos): {itos}\")\n",
    "print(f\"Vocab size: {vocab_size}\")"
   ]
  },
  {
   "cell_type": "markdown",
   "metadata": {},
   "source": [
    "#### Dataset Example"
   ]
  },
  {
   "cell_type": "code",
   "execution_count": 73,
   "metadata": {},
   "outputs": [
    {
     "name": "stdout",
     "output_type": "stream",
     "text": [
      "Input: yuheng\n",
      "Samples:\n",
      "  ... ---> y    or    [0, 0, 0] ---> 25\n",
      "  ..y ---> u    or    [0, 0, 25] ---> 21\n",
      "  .yu ---> h    or    [0, 25, 21] ---> 8\n",
      "  yuh ---> e    or    [25, 21, 8] ---> 5\n",
      "  uhe ---> n    or    [21, 8, 5] ---> 14\n",
      "  hen ---> g    or    [8, 5, 14] ---> 7\n",
      "  eng ---> .    or    [5, 14, 7] ---> 0\n",
      "Input: diondre\n",
      "Samples:\n",
      "  ... ---> d    or    [0, 0, 0] ---> 4\n",
      "  ..d ---> i    or    [0, 0, 4] ---> 9\n",
      "  .di ---> o    or    [0, 4, 9] ---> 15\n",
      "  dio ---> n    or    [4, 9, 15] ---> 14\n",
      "  ion ---> d    or    [9, 15, 14] ---> 4\n",
      "  ond ---> r    or    [15, 14, 4] ---> 18\n",
      "  ndr ---> e    or    [14, 4, 18] ---> 5\n",
      "  dre ---> .    or    [4, 18, 5] ---> 0\n",
      "Input: xavien\n",
      "Samples:\n",
      "  ... ---> x    or    [0, 0, 0] ---> 24\n",
      "  ..x ---> a    or    [0, 0, 24] ---> 1\n",
      "  .xa ---> v    or    [0, 24, 1] ---> 22\n",
      "  xav ---> i    or    [24, 1, 22] ---> 9\n",
      "  avi ---> e    or    [1, 22, 9] ---> 5\n",
      "  vie ---> n    or    [22, 9, 5] ---> 14\n",
      "  ien ---> .    or    [9, 5, 14] ---> 0\n"
     ]
    }
   ],
   "source": [
    "# build the dataset\n",
    "block_size = 3 # context length: how many characters do we take to predict the next one?\n",
    "\n",
    "X, Y = [], []\n",
    "for w in words[:3]:\n",
    "  \n",
    "  print(f\"Input: {w}\")\n",
    "  print(f\"Samples:\")\n",
    "  \n",
    "  context = [0] * block_size  # Pad (special character)\n",
    "  for ch in w + '.':\n",
    "    ix = stoi[ch]\n",
    "    X.append(context)\n",
    "    Y.append(ix)\n",
    "    context_str = ''.join(itos[i] for i in context)\n",
    "    print(f\"  {context_str} ---> {itos[ix]}    or    {context} ---> {ix}\")  # x_i ---> y_i\n",
    "    context = context[1:] + [ix]  # Slide left and append current char idx\n",
    "  \n",
    "X = torch.tensor(X, device=device)\n",
    "Y = torch.tensor(Y, device=device)"
   ]
  },
  {
   "cell_type": "markdown",
   "metadata": {},
   "source": [
    "#### Full Dataset"
   ]
  },
  {
   "cell_type": "code",
   "execution_count": 52,
   "metadata": {},
   "outputs": [
    {
     "name": "stdout",
     "output_type": "stream",
     "text": [
      "Train split: Xtr.shape: torch.Size([182625, 3]), Ytr.shape: torch.Size([182625])\n",
      "Val split: Xdev.shape: torch.Size([22655, 3]), Ydev.shape: torch.Size([22655])\n",
      "Test split: Xte.shape: torch.Size([22866, 3]), Yte.shape: torch.Size([22866])\n"
     ]
    }
   ],
   "source": [
    "# build the dataset\n",
    "block_size = 3 # context length: how many characters do we take to predict the next one?\n",
    "\n",
    "def build_dataset(words, split, x_var, y_var):  \n",
    "  X, Y = [], []\n",
    "  \n",
    "  for w in words:\n",
    "    context = [0] * block_size  # Initial \n",
    "    for ch in w + '.':\n",
    "      ix = stoi[ch]\n",
    "      X.append(context)\n",
    "      Y.append(ix)\n",
    "      context = context[1:] + [ix] # crop and append\n",
    "\n",
    "  X = torch.tensor(X, device=device)\n",
    "  Y = torch.tensor(Y, device=device)\n",
    "  print(f\"{split.capitalize()} split: {x_var}.shape: {X.shape}, {y_var}.shape: {Y.shape}\")\n",
    "  return X, Y\n",
    "\n",
    "import random\n",
    "random.seed(42)\n",
    "random.shuffle(words)\n",
    "n1 = int(0.8*len(words))\n",
    "n2 = int(0.9*len(words))\n",
    "\n",
    "Xtr,  Ytr  = build_dataset(words[:n1], \"train\", \"Xtr\", \"Ytr\")    # 80%\n",
    "Xdev, Ydev = build_dataset(words[n1:n2], \"val\", \"Xdev\", \"Ydev\")  # 10%\n",
    "Xte,  Yte  = build_dataset(words[n2:], \"test\", \"Xte\", \"Yte\")     # 10%"
   ]
  },
  {
   "cell_type": "markdown",
   "metadata": {},
   "source": [
    "### Build MLP Model"
   ]
  },
  {
   "cell_type": "code",
   "execution_count": null,
   "metadata": {},
   "outputs": [],
   "source": [
    "class MLP(nn.Module):\n",
    "    def __init__(\n",
    "        self,\n",
    "        block_size: int = 3,  # Aka context length or sequence length\n",
    "        n_embd: int = 10, \n",
    "        n_hidden: int = 200, \n",
    "        vocab_size: int = 27,\n",
    "        device: str = 'cuda' if torch.cuda.is_available() else 'cpu',\n",
    "    ):\n",
    "        super().__init__()\n",
    "        self.n_embd = n_embd\n",
    "        \n",
    "        g = torch.Generator(device=device).manual_seed(2147483647) # for reproducibility    \n",
    "        self.C = torch.randn((vocab_size, n_embd), generator=g, device=device)  # Embedding matrix        \n",
    "        self.W1 = torch.randn((block_size*n_embd, n_hidden), generator=g, device=device)\n",
    "        self.b1 = torch.randn(n_hidden, generator=g, device=device)        \n",
    "        self.W2 = torch.randn((n_hidden, vocab_size), generator=g, device=device)\n",
    "        self.b2 = torch.randn(vocab_size, generator=g, device=device)\n",
    "\n",
    "        # Hack, set requires_grad = True b/c didn't declare as nn.Parameters in this version\n",
    "        parameters = self.parameters()\n",
    "        for p in parameters:\n",
    "            p.requires_grad = True\n",
    "\n",
    "        print(f\"Num params: {sum(p.nelement() for p in parameters)}\")\n",
    "\n",
    "    def zero_grad(self):\n",
    "        for p in self.parameters():\n",
    "            p.grad = None\n",
    "\n",
    "    def parameters(self) -> list[torch.Tensor]:\n",
    "        # Hack, overwrite std impl. since we didn't declare as nn.Parameters in this version\n",
    "        return [self.C, self.W1, self.b1, self.W2, self.b2]\n",
    "\n",
    "    def forward(self, x: torch.Tensor) -> torch.Tensor:\n",
    "        #  x.shape; (N,L) = (32,3)\n",
    "        emb = self.C[x] # (32, 3) -> (32, 3, 10)\n",
    "        \n",
    "        # (32, 30) @ (30, 200) -> (32, 200)\n",
    "        h = torch.tanh(emb.view(-1, block_size * self.n_embd) @ self.W1 + self.b1) \n",
    "        \n",
    "        logits = h @ self.W2 + self.b2  #  (32, 200) @ (200, 27) -> (32, 27)\n",
    "        return logits\n",
    "        \n",
    "    def loss(self, x: torch.Tensor, y: torch.Tensor) -> torch.Tensor:\n",
    "        #  x.shape; (N,L) = (32,3)\n",
    "        #  y.shape: (N,) = (32,)\n",
    "        logits = self.forward(x)  # (32, 3) -> (32, 27)\n",
    "        loss = F.cross_entropy(logits, y)  # (32, 27) -> (1,)\n",
    "        return loss\n",
    "        "
   ]
  },
  {
   "cell_type": "markdown",
   "metadata": {},
   "source": [
    "### Train Loop"
   ]
  },
  {
   "cell_type": "code",
   "execution_count": 63,
   "metadata": {},
   "outputs": [
    {
     "name": "stdout",
     "output_type": "stream",
     "text": [
      "Num params: 11897\n"
     ]
    },
    {
     "name": "stderr",
     "output_type": "stream",
     "text": [
      "iter:   0%|          | 30/200000 [00:00<11:23, 292.54it/s]"
     ]
    },
    {
     "name": "stdout",
     "output_type": "stream",
     "text": [
      "Iter [1/200000]: loss=28.501\n"
     ]
    },
    {
     "name": "stderr",
     "output_type": "stream",
     "text": [
      "iter:  10%|█         | 20053/200000 [00:36<05:02, 594.57it/s]"
     ]
    },
    {
     "name": "stdout",
     "output_type": "stream",
     "text": [
      "Iter [20000/200000]: loss=2.065\n"
     ]
    },
    {
     "name": "stderr",
     "output_type": "stream",
     "text": [
      "iter:  20%|██        | 40088/200000 [01:16<05:14, 508.24it/s]"
     ]
    },
    {
     "name": "stdout",
     "output_type": "stream",
     "text": [
      "Iter [40000/200000]: loss=2.506\n"
     ]
    },
    {
     "name": "stderr",
     "output_type": "stream",
     "text": [
      "iter:  30%|███       | 60063/200000 [01:55<04:04, 571.26it/s]"
     ]
    },
    {
     "name": "stdout",
     "output_type": "stream",
     "text": [
      "Iter [60000/200000]: loss=2.182\n"
     ]
    },
    {
     "name": "stderr",
     "output_type": "stream",
     "text": [
      "iter:  40%|████      | 80084/200000 [02:36<04:21, 457.95it/s]"
     ]
    },
    {
     "name": "stdout",
     "output_type": "stream",
     "text": [
      "Iter [80000/200000]: loss=2.808\n"
     ]
    },
    {
     "name": "stderr",
     "output_type": "stream",
     "text": [
      "iter:  50%|█████     | 100100/200000 [03:15<03:23, 492.04it/s]"
     ]
    },
    {
     "name": "stdout",
     "output_type": "stream",
     "text": [
      "Iter [100000/200000]: loss=2.127\n"
     ]
    },
    {
     "name": "stderr",
     "output_type": "stream",
     "text": [
      "iter:  60%|██████    | 120059/200000 [03:56<02:31, 527.44it/s]"
     ]
    },
    {
     "name": "stdout",
     "output_type": "stream",
     "text": [
      "Iter [120000/200000]: loss=1.952\n"
     ]
    },
    {
     "name": "stderr",
     "output_type": "stream",
     "text": [
      "iter:  70%|███████   | 140042/200000 [04:35<02:46, 359.77it/s]"
     ]
    },
    {
     "name": "stdout",
     "output_type": "stream",
     "text": [
      "Iter [140000/200000]: loss=2.060\n"
     ]
    },
    {
     "name": "stderr",
     "output_type": "stream",
     "text": [
      "iter:  80%|████████  | 160097/200000 [05:15<01:13, 542.35it/s]"
     ]
    },
    {
     "name": "stdout",
     "output_type": "stream",
     "text": [
      "Iter [160000/200000]: loss=2.040\n"
     ]
    },
    {
     "name": "stderr",
     "output_type": "stream",
     "text": [
      "iter:  90%|█████████ | 180079/200000 [05:55<00:36, 540.47it/s]"
     ]
    },
    {
     "name": "stdout",
     "output_type": "stream",
     "text": [
      "Iter [180000/200000]: loss=1.874\n"
     ]
    },
    {
     "name": "stderr",
     "output_type": "stream",
     "text": [
      "iter: 100%|██████████| 200000/200000 [06:38<00:00, 502.01it/s]"
     ]
    },
    {
     "name": "stdout",
     "output_type": "stream",
     "text": [
      "Iter [200000/200000]: loss=1.768\n",
      "Final loss: 1.7684181928634644\n"
     ]
    },
    {
     "name": "stderr",
     "output_type": "stream",
     "text": [
      "\n"
     ]
    }
   ],
   "source": [
    "# Hyperparameters\n",
    "n_embd = 10   # the dimensionality of the character embedding vectors\n",
    "n_hidden = 200 # the number of neurons in the hidden layer of the MLP\n",
    "\n",
    "# Build model\n",
    "model = MLP(\n",
    "    block_size=block_size,  # e.g. 3 above\n",
    "    n_embd=n_embd, \n",
    "    n_hidden=n_hidden, \n",
    "    vocab_size=vocab_size,\n",
    "    device=device,\n",
    ")\n",
    "\n",
    "lossi = []\n",
    "stepi = []\n",
    "\n",
    "# Train\n",
    "max_steps = 200000\n",
    "print_loss_steps = max_steps // 10\n",
    "for i in tqdm(range(max_steps), desc=\"iter\", total=max_steps):\n",
    "  \n",
    "  # minibatch construct\n",
    "  ix = torch.randint(0, Xtr.shape[0], (32,))  # (32,)\n",
    "  x = Xtr[ix]  # (32, 3) or (32, block_size)\n",
    "  y = Ytr[ix]\n",
    "  \n",
    "  # forward pass\n",
    "  loss = model.loss(x, y)\n",
    "  \n",
    "  # backward pass\n",
    "  model.zero_grad()\n",
    "  loss.backward()\n",
    "  \n",
    "  # update\n",
    "  lr = 0.1 if i < 100000 else 0.01\n",
    "  for p in model.parameters():\n",
    "    p.data += -lr * p.grad  # pyright: ignore[reportOperatorIssue]\n",
    "\n",
    "  # track stats\n",
    "  stepi.append(i)\n",
    "  lossi.append(loss.log10().item())\n",
    "  \n",
    "  # print\n",
    "  if i == 0 or (i+1) % print_loss_steps == 0:\n",
    "    print(f\"Iter [{i+1}/{max_steps}]: loss={loss.item():.3f}\")\n",
    "\n",
    "print(f\"Final loss: {loss.item()}\")"
   ]
  },
  {
   "cell_type": "markdown",
   "metadata": {},
   "source": [
    "### Evaluate"
   ]
  },
  {
   "cell_type": "code",
   "execution_count": 67,
   "metadata": {},
   "outputs": [
    {
     "data": {
      "text/plain": [
       "tensor(2.1088, device='cuda:0', grad_fn=<NllLossBackward0>)"
      ]
     },
     "execution_count": 67,
     "metadata": {},
     "output_type": "execute_result"
    }
   ],
   "source": [
    "# Cross entropy loss on entire training set\n",
    "loss = model.loss(Xtr, Ytr)\n",
    "loss"
   ]
  },
  {
   "cell_type": "code",
   "execution_count": 68,
   "metadata": {},
   "outputs": [
    {
     "data": {
      "text/plain": [
       "tensor(2.1548, device='cuda:0', grad_fn=<NllLossBackward0>)"
      ]
     },
     "execution_count": 68,
     "metadata": {},
     "output_type": "execute_result"
    }
   ],
   "source": [
    "# Cross entropy loss on entire validation set\n",
    "loss = model.loss(Xdev, Ydev)\n",
    "loss"
   ]
  },
  {
   "cell_type": "code",
   "execution_count": 69,
   "metadata": {},
   "outputs": [
    {
     "data": {
      "text/plain": [
       "[<matplotlib.lines.Line2D at 0x7fba5c908e50>]"
      ]
     },
     "execution_count": 69,
     "metadata": {},
     "output_type": "execute_result"
    },
    {
     "data": {
      "image/png": "[encoded data removed]",
      "text/plain": [
       "<Figure size 640x480 with 1 Axes>"
      ]
     },
     "metadata": {},
     "output_type": "display_data"
    }
   ],
   "source": [
    "# Plot loss\n",
    "plt.plot(stepi, lossi)"
   ]
  },
  {
   "cell_type": "markdown",
   "metadata": {},
   "source": [
    "### Generate\n",
    "- This is much better than bigram, but not great yet (see part 3)"
   ]
  },
  {
   "cell_type": "code",
   "execution_count": null,
   "metadata": {},
   "outputs": [
    {
     "name": "stdout",
     "output_type": "stream",
     "text": [
      "bree.\n",
      "sahamniel.\n",
      "frendarry.\n",
      "reysley.\n",
      "jeidenorus.\n",
      "jheman.\n",
      "jagrace.\n",
      "edwy.\n",
      "quinn.\n",
      "canti.\n",
      "elion.\n",
      "aarshtento.\n",
      "kengeldyn.\n",
      "zazhrann.\n",
      "jurlana.\n",
      "doria.\n",
      "aviel.\n",
      "thanekhoris.\n",
      "adesterick.\n",
      "annax.\n"
     ]
    }
   ],
   "source": [
    "# sample from the model\n",
    "g = torch.Generator(device=device).manual_seed(2147483647 + 10)\n",
    "\n",
    "for _ in range(20):\n",
    "    out = []\n",
    "    context = [0] * block_size  # initialize with `...`\n",
    "    while True:    \n",
    "        x = torch.tensor([context], device=device)  # (1,block_size)\n",
    "        logits = model.forward(x)  # (1,block_size) -> (1,27)\n",
    "        \n",
    "        probs = F.softmax(logits, dim=-1)\n",
    "        ix = torch.multinomial(probs, num_samples=1, generator=g).item()\n",
    "        context = context[1:] + [ix]\n",
    "        out.append(ix)\n",
    "        if ix == 0:\n",
    "            break\n",
    "    \n",
    "    print(''.join(itos[i] for i in out))"
   ]
  }
 ],
 "metadata": {
  "kernelspec": {
   "display_name": "dl_scratch",
   "language": "python",
   "name": "python3"
  },
  "language_info": {
   "codemirror_mode": {
    "name": "ipython",
    "version": 3
   },
   "file_extension": ".py",
   "mimetype": "text/x-python",
   "name": "python",
   "nbconvert_exporter": "python",
   "pygments_lexer": "ipython3",
   "version": "3.10.15"
  }
 },
 "nbformat": 4,
 "nbformat_minor": 2
}
